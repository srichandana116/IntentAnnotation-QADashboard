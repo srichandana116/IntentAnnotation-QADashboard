{
 "cells": [
  {
   "cell_type": "code",
   "execution_count": 41,
   "id": "d7e871d9-9a33-4554-9dad-0e8bec93658b",
   "metadata": {},
   "outputs": [
    {
     "name": "stdout",
     "output_type": "stream",
     "text": [
      "Total records: 100\n",
      "\n",
      "Missing values:\n",
      "command    0\n",
      "intent     0\n",
      "dtype: int64\n",
      "\n",
      "Intent distribution:\n",
      "intent\n",
      "CloseDevice          20\n",
      "OpenDevice           19\n",
      "CheckDeviceStatus    18\n",
      "SetTemperature       17\n",
      "TurnOnDevice         13\n",
      "TurnOffDevice        13\n",
      "Name: count, dtype: int64\n",
      "\n",
      "All labels are valid.\n"
     ]
    }
   ],
   "source": [
    "import pandas as pd\n",
    "\n",
    "# Load the data\n",
    "df = pd.read_csv(\"smart_home_intents.csv\")\n",
    "\n",
    "# Show number of records\n",
    "print(f\"Total records: {len(df)}\")\n",
    "\n",
    "# Check for missing or malformed data\n",
    "print(\"\\nMissing values:\")\n",
    "print(df.isnull().sum())\n",
    "\n",
    "# Unique intents and distribution\n",
    "print(\"\\nIntent distribution:\")\n",
    "print(df['intent'].value_counts())\n",
    "\n",
    "# Check for unexpected intent labels\n",
    "valid_intents = {\n",
    "    \"TurnOnDevice\", \"TurnOffDevice\", \"SetTemperature\",\n",
    "    \"OpenDevice\", \"CloseDevice\", \"CheckDeviceStatus\"\n",
    "}\n",
    "invalid_labels = df.loc[~df['intent'].isin(valid_intents)]\n",
    "\n",
    "if not invalid_labels.empty:\n",
    "    print(\"\\nInvalid labels found:\")\n",
    "    print(invalid_labels)\n",
    "else:\n",
    "    print(\"\\nAll labels are valid.\")\n"
   ]
  },
  {
   "cell_type": "code",
   "execution_count": null,
   "id": "ba5505cb-274a-4f27-a550-ad1b56992e0d",
   "metadata": {},
   "outputs": [],
   "source": []
  },
  {
   "cell_type": "code",
   "execution_count": 4,
   "id": "ccbf4cf6-b6b2-480a-ba9e-d03443402a9c",
   "metadata": {},
   "outputs": [
    {
     "name": "stdout",
     "output_type": "stream",
     "text": [
      "Total samples: 146\n",
      "Disagreements: 11\n",
      "Low confidence samples: 6\n",
      "\n",
      "Sample disagreements:\n",
      "                           command       intent_a1  confidence_a1  \\\n",
      "23  Please turn off the thermostat   TurnOffDevice              5   \n",
      "50              Make it 73 degrees  SetTemperature              4   \n",
      "56      Switch off the bedroom fan   TurnOffDevice              5   \n",
      "62   Can you open the bedroom fan?      OpenDevice              5   \n",
      "87  Please turn off the thermostat   TurnOffDevice              4   \n",
      "\n",
      "       intent_a2  confidence_a2  \n",
      "23  TurnOnDevice              3  \n",
      "50  TurnOnDevice              3  \n",
      "56    OpenDevice              4  \n",
      "62  TurnOnDevice              4  \n",
      "87  TurnOnDevice              3  \n"
     ]
    }
   ],
   "source": [
    "import pandas as pd\n",
    "\n",
    "# Load annotations\n",
    "a1 = pd.read_csv('annotator1.csv')\n",
    "a2 = pd.read_csv('annotator2.csv')\n",
    "\n",
    "# Merge on command\n",
    "merged = pd.merge(a1, a2, on='command', suffixes=('_a1', '_a2'))\n",
    "\n",
    "# Find disagreements\n",
    "disagreements = merged[merged['intent_a1'] != merged['intent_a2']]\n",
    "low_confidence = merged[(merged['confidence_a1'] < 3) | (merged['confidence_a2'] < 3)]\n",
    "\n",
    "# Print summaries\n",
    "print(f\"Total samples: {len(merged)}\")\n",
    "print(f\"Disagreements: {len(disagreements)}\")\n",
    "print(f\"Low confidence samples: {len(low_confidence)}\\n\")\n",
    "\n",
    "# Show examples\n",
    "print(\"Sample disagreements:\")\n",
    "print(disagreements[['command', 'intent_a1', 'confidence_a1', 'intent_a2', 'confidence_a2']].head())\n",
    "\n",
    "# Save disagreements and low confidence samples\n",
    "disagreements.to_csv('disagreements.csv', index=False)\n",
    "low_confidence.to_csv('low_confidence.csv', index=False)\n"
   ]
  },
  {
   "cell_type": "code",
   "execution_count": 43,
   "id": "7edf332f-a392-4281-9c5b-0f7af1fe3ab6",
   "metadata": {},
   "outputs": [
    {
     "data": {
      "application/vnd.jupyter.widget-view+json": {
       "model_id": "e30016af3a494f2db56f7fd601bd41e9",
       "version_major": 2,
       "version_minor": 0
      },
      "text/plain": [
       "Dropdown(description='Intent:', options=('All', 'TurnOnDevice', 'CloseDevice', 'PlayMusic', 'OpenDevice'), val…"
      ]
     },
     "metadata": {},
     "output_type": "display_data"
    },
    {
     "data": {
      "application/vnd.jupyter.widget-view+json": {
       "model_id": "4fb1686570cb4609bdbaee2ea068be3b",
       "version_major": 2,
       "version_minor": 0
      },
      "text/plain": [
       "Output()"
      ]
     },
     "metadata": {},
     "output_type": "display_data"
    }
   ],
   "source": [
    "import pandas as pd\n",
    "import ipywidgets as widgets\n",
    "from IPython.display import display\n",
    "\n",
    "# Sample data\n",
    "df = pd.DataFrame({\n",
    "    'command': ['Turn on light', 'Close window', 'Play music', 'Open door'],\n",
    "    'intent': ['TurnOnDevice', 'CloseDevice', 'PlayMusic', 'OpenDevice'],\n",
    "    'confidence': [5, 4, 3, 5]\n",
    "})\n",
    "\n",
    "# Dropdown to filter intents\n",
    "intent_options = ['All'] + list(df['intent'].unique())\n",
    "dropdown = widgets.Dropdown(options=intent_options, description='Intent:')\n",
    "\n",
    "def filter_df(change):\n",
    "    if change['new'] == 'All':\n",
    "        display(df)\n",
    "    else:\n",
    "        display(df[df['intent'] == change['new']])\n",
    "\n",
    "output = widgets.Output()\n",
    "\n",
    "def on_change(change):\n",
    "    output.clear_output()\n",
    "    with output:\n",
    "        filter_df(change)\n",
    "\n",
    "dropdown.observe(on_change, names='value')\n",
    "\n",
    "display(dropdown)\n",
    "with output:\n",
    "    display(df)\n",
    "\n",
    "display(output)\n"
   ]
  },
  {
   "cell_type": "code",
   "execution_count": 45,
   "id": "15bf37c0-7ef2-414e-8782-2d0257506735",
   "metadata": {},
   "outputs": [
    {
     "data": {
      "application/vnd.jupyter.widget-view+json": {
       "model_id": "030a4145c70f45aaa829d4620551d368",
       "version_major": 2,
       "version_minor": 0
      },
      "text/plain": [
       "Dropdown(description='Filter Intent:', options=('All', 'TurnOnDevice', 'CloseDevice', 'PlayMusic', 'OpenDevice…"
      ]
     },
     "metadata": {},
     "output_type": "display_data"
    },
    {
     "data": {
      "application/vnd.jupyter.widget-view+json": {
       "model_id": "c4caa0722c3b45f6a7ac5ecabafb135f",
       "version_major": 2,
       "version_minor": 0
      },
      "text/plain": [
       "Output()"
      ]
     },
     "metadata": {},
     "output_type": "display_data"
    }
   ],
   "source": [
    "import pandas as pd\n",
    "from IPython.display import display, clear_output\n",
    "import ipywidgets as widgets\n",
    "\n",
    "# Sample data\n",
    "df = pd.DataFrame({\n",
    "    'command': ['Turn on light', 'Close window', 'Play music', 'Open door'],\n",
    "    'intent': ['TurnOnDevice', 'CloseDevice', 'PlayMusic', 'OpenDevice'],\n",
    "    'confidence': [5, 4, 3, 5]\n",
    "})\n",
    "\n",
    "# Dropdown filter widget\n",
    "intent_options = ['All'] + df['intent'].unique().tolist()\n",
    "dropdown = widgets.Dropdown(options=intent_options, description='Filter Intent:')\n",
    "\n",
    "output = widgets.Output()\n",
    "\n",
    "def on_filter_change(change):\n",
    "    with output:\n",
    "        clear_output(wait=True)\n",
    "        selected = change['new']\n",
    "        if selected == 'All':\n",
    "            display(df)\n",
    "        else:\n",
    "            display(df[df['intent'] == selected])\n",
    "\n",
    "dropdown.observe(on_filter_change, names='value')\n",
    "\n",
    "display(dropdown)\n",
    "display(output)\n",
    "\n",
    "# Show full data by default\n",
    "with output:\n",
    "    display(df)\n"
   ]
  },
  {
   "cell_type": "code",
   "execution_count": null,
   "id": "ba9c559f-0343-45ad-b3cf-d7d22efb2852",
   "metadata": {},
   "outputs": [],
   "source": []
  }
 ],
 "metadata": {
  "kernelspec": {
   "display_name": "Python [conda env:base] *",
   "language": "python",
   "name": "conda-base-py"
  },
  "language_info": {
   "codemirror_mode": {
    "name": "ipython",
    "version": 3
   },
   "file_extension": ".py",
   "mimetype": "text/x-python",
   "name": "python",
   "nbconvert_exporter": "python",
   "pygments_lexer": "ipython3",
   "version": "3.12.7"
  }
 },
 "nbformat": 4,
 "nbformat_minor": 5
}
